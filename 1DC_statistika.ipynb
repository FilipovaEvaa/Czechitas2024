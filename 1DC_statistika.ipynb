{
 "cells": [
  {
   "cell_type": "markdown",
   "metadata": {},
   "source": [
    "# Domácí úkol č. 1 - Statistika"
   ]
  },
  {
   "cell_type": "code",
   "execution_count": 189,
   "metadata": {},
   "outputs": [],
   "source": [
    "# import potřebných knihoven\n",
    "\n",
    "import pandas as pd \n",
    "import numpy as np\n",
    "import seaborn as sns\n",
    "from scipy import stats\n",
    "import statsmodels.api as sm\n",
    "import statsmodels.formula.api as smf\n"
   ]
  },
  {
   "cell_type": "markdown",
   "metadata": {},
   "source": [
    "### Úkol č. 1 - Příprava dat \n",
    "1. Načtěte dataset \n",
    "2. Odstraňte mezery z názvů sloupců"
   ]
  },
  {
   "cell_type": "code",
   "execution_count": 190,
   "metadata": {},
   "outputs": [
    {
     "data": {
      "text/plain": [
       "Index(['No.', 'GRE', 'TOEFL', 'Rating', 'SOP', 'LOR', 'CGPA', 'Research',\n",
       "       'Chance'],\n",
       "      dtype='object')"
      ]
     },
     "execution_count": 190,
     "metadata": {},
     "output_type": "execute_result"
    }
   ],
   "source": [
    "data_new = pd.read_csv(\"adm_data.csv\")\n",
    "new_names = {\n",
    "    \"Serial No.\":\"No.\",\n",
    "    \"GRE Score\":\"GRE\", \n",
    "    \"LOR \": \"LOR\",\n",
    "    \"TOEFL Score\":\"TOEFL\", \n",
    "    \"Chance of Admit \":\"Chance\",\n",
    "    \"University Rating\":\"Rating\"}\n",
    "\n",
    "data = data_new.rename(columns = new_names)\n",
    "data.columns"
   ]
  },
  {
   "cell_type": "markdown",
   "metadata": {},
   "source": [
    "### Úkol č. 2 - Normálnost dat pro TOEFL skóre"
   ]
  },
  {
   "cell_type": "markdown",
   "metadata": {},
   "source": [
    "1. Vypočítel průměr a medián pro TOEFL skóre"
   ]
  },
  {
   "cell_type": "code",
   "execution_count": 191,
   "metadata": {},
   "outputs": [
    {
     "data": {
      "text/plain": [
       "107.41"
      ]
     },
     "execution_count": 191,
     "metadata": {},
     "output_type": "execute_result"
    }
   ],
   "source": [
    "#průměr\n",
    "průměr = data[\"TOEFL\"].mean()\n",
    "průměr "
   ]
  },
  {
   "cell_type": "code",
   "execution_count": 192,
   "metadata": {},
   "outputs": [
    {
     "data": {
      "text/plain": [
       "107.0"
      ]
     },
     "execution_count": 192,
     "metadata": {},
     "output_type": "execute_result"
    }
   ],
   "source": [
    "#medián\n",
    "median = data[\"TOEFL\"].median()\n",
    "median"
   ]
  },
  {
   "cell_type": "code",
   "execution_count": 193,
   "metadata": {},
   "outputs": [
    {
     "data": {
      "text/plain": [
       "array([107.])"
      ]
     },
     "execution_count": 193,
     "metadata": {},
     "output_type": "execute_result"
    }
   ],
   "source": [
    "#alternativní výpočet pro medián\n",
    "median2 = np.quantile(data[\"TOEFL\"], q = [0.50])\n",
    "median2"
   ]
  },
  {
   "cell_type": "markdown",
   "metadata": {},
   "source": [
    "2. Vypočítejte směrodatnou odchylku"
   ]
  },
  {
   "cell_type": "code",
   "execution_count": 194,
   "metadata": {},
   "outputs": [
    {
     "data": {
      "text/plain": [
       "6.069513777374126"
      ]
     },
     "execution_count": 194,
     "metadata": {},
     "output_type": "execute_result"
    }
   ],
   "source": [
    "sm_odch = data[\"TOEFL\"].std()\n",
    "sm_odch"
   ]
  },
  {
   "cell_type": "markdown",
   "metadata": {},
   "source": [
    "3. Vytvořte histogram pro TOEFL + zobrazte křivku pravděpodobnostního rozdělení"
   ]
  },
  {
   "cell_type": "code",
   "execution_count": 195,
   "metadata": {},
   "outputs": [
    {
     "data": {
      "text/plain": [
       "<seaborn.axisgrid.FacetGrid at 0x17253a8c200>"
      ]
     },
     "execution_count": 195,
     "metadata": {},
     "output_type": "execute_result"
    },
    {
     "data": {
      "image/png": "[encoded data removed]",
      "text/plain": [
       "<Figure size 500x500 with 1 Axes>"
      ]
     },
     "metadata": {},
     "output_type": "display_data"
    }
   ],
   "source": [
    "TOEFL_hist = sns.displot(data=data, x=\"TOEFL\", kde=True)\n",
    "TOEFL_hist"
   ]
  },
  {
   "cell_type": "markdown",
   "metadata": {},
   "source": [
    "4. Otestujte, zda má TOEFL normální rozdělení (uvažujte obvyklou hladinu významnosti)"
   ]
  },
  {
   "cell_type": "code",
   "execution_count": 196,
   "metadata": {},
   "outputs": [
    {
     "data": {
      "text/plain": [
       "NormaltestResult(statistic=11.070212103496331, pvalue=0.003945790155853822)"
      ]
     },
     "execution_count": 196,
     "metadata": {},
     "output_type": "execute_result"
    }
   ],
   "source": [
    "# H0: Data mají normální rozdělení \n",
    "# H1: Data nemaji normální rozdělení \n",
    "\n",
    "stats.normaltest(data[\"TOEFL\"])"
   ]
  },
  {
   "cell_type": "code",
   "execution_count": 197,
   "metadata": {},
   "outputs": [],
   "source": [
    "# Interpretace: \n",
    "# P-hodnota vyšla 0,004. Na hladině významnosti 5 % tedy nemůžeme zamítnout nulovou hypotézu. \n",
    "# Kloním se tedy k názoru, že data mají normální rozdělení. "
   ]
  },
  {
   "cell_type": "markdown",
   "metadata": {},
   "source": [
    "### Úkol č. 3 - Korelace\n",
    "\n",
    "1. Vypočítejte korelaci mezi TOEFL skóre a GRE skóre"
   ]
  },
  {
   "cell_type": "code",
   "execution_count": 198,
   "metadata": {},
   "outputs": [
    {
     "data": {
      "text/html": [
       "<div>\n",
       "<style scoped>\n",
       "    .dataframe tbody tr th:only-of-type {\n",
       "        vertical-align: middle;\n",
       "    }\n",
       "\n",
       "    .dataframe tbody tr th {\n",
       "        vertical-align: top;\n",
       "    }\n",
       "\n",
       "    .dataframe thead th {\n",
       "        text-align: right;\n",
       "    }\n",
       "</style>\n",
       "<table border=\"1\" class=\"dataframe\">\n",
       "  <thead>\n",
       "    <tr style=\"text-align: right;\">\n",
       "      <th></th>\n",
       "      <th>No.</th>\n",
       "      <th>GRE</th>\n",
       "      <th>TOEFL</th>\n",
       "      <th>Rating</th>\n",
       "      <th>SOP</th>\n",
       "      <th>LOR</th>\n",
       "      <th>CGPA</th>\n",
       "      <th>Research</th>\n",
       "      <th>Chance</th>\n",
       "    </tr>\n",
       "  </thead>\n",
       "  <tbody>\n",
       "    <tr>\n",
       "      <th>No.</th>\n",
       "      <td>1.000000</td>\n",
       "      <td>-0.097526</td>\n",
       "      <td>-0.147932</td>\n",
       "      <td>-0.169948</td>\n",
       "      <td>-0.166932</td>\n",
       "      <td>-0.088221</td>\n",
       "      <td>-0.045608</td>\n",
       "      <td>-0.063138</td>\n",
       "      <td>0.042336</td>\n",
       "    </tr>\n",
       "    <tr>\n",
       "      <th>GRE</th>\n",
       "      <td>-0.097526</td>\n",
       "      <td>1.000000</td>\n",
       "      <td>0.835977</td>\n",
       "      <td>0.668976</td>\n",
       "      <td>0.612831</td>\n",
       "      <td>0.557555</td>\n",
       "      <td>0.833060</td>\n",
       "      <td>0.580391</td>\n",
       "      <td>0.802610</td>\n",
       "    </tr>\n",
       "    <tr>\n",
       "      <th>TOEFL</th>\n",
       "      <td>-0.147932</td>\n",
       "      <td>0.835977</td>\n",
       "      <td>1.000000</td>\n",
       "      <td>0.695590</td>\n",
       "      <td>0.657981</td>\n",
       "      <td>0.567721</td>\n",
       "      <td>0.828417</td>\n",
       "      <td>0.489858</td>\n",
       "      <td>0.791594</td>\n",
       "    </tr>\n",
       "    <tr>\n",
       "      <th>Rating</th>\n",
       "      <td>-0.169948</td>\n",
       "      <td>0.668976</td>\n",
       "      <td>0.695590</td>\n",
       "      <td>1.000000</td>\n",
       "      <td>0.734523</td>\n",
       "      <td>0.660123</td>\n",
       "      <td>0.746479</td>\n",
       "      <td>0.447783</td>\n",
       "      <td>0.711250</td>\n",
       "    </tr>\n",
       "    <tr>\n",
       "      <th>SOP</th>\n",
       "      <td>-0.166932</td>\n",
       "      <td>0.612831</td>\n",
       "      <td>0.657981</td>\n",
       "      <td>0.734523</td>\n",
       "      <td>1.000000</td>\n",
       "      <td>0.729593</td>\n",
       "      <td>0.718144</td>\n",
       "      <td>0.444029</td>\n",
       "      <td>0.675732</td>\n",
       "    </tr>\n",
       "    <tr>\n",
       "      <th>LOR</th>\n",
       "      <td>-0.088221</td>\n",
       "      <td>0.557555</td>\n",
       "      <td>0.567721</td>\n",
       "      <td>0.660123</td>\n",
       "      <td>0.729593</td>\n",
       "      <td>1.000000</td>\n",
       "      <td>0.670211</td>\n",
       "      <td>0.396859</td>\n",
       "      <td>0.669889</td>\n",
       "    </tr>\n",
       "    <tr>\n",
       "      <th>CGPA</th>\n",
       "      <td>-0.045608</td>\n",
       "      <td>0.833060</td>\n",
       "      <td>0.828417</td>\n",
       "      <td>0.746479</td>\n",
       "      <td>0.718144</td>\n",
       "      <td>0.670211</td>\n",
       "      <td>1.000000</td>\n",
       "      <td>0.521654</td>\n",
       "      <td>0.873289</td>\n",
       "    </tr>\n",
       "    <tr>\n",
       "      <th>Research</th>\n",
       "      <td>-0.063138</td>\n",
       "      <td>0.580391</td>\n",
       "      <td>0.489858</td>\n",
       "      <td>0.447783</td>\n",
       "      <td>0.444029</td>\n",
       "      <td>0.396859</td>\n",
       "      <td>0.521654</td>\n",
       "      <td>1.000000</td>\n",
       "      <td>0.553202</td>\n",
       "    </tr>\n",
       "    <tr>\n",
       "      <th>Chance</th>\n",
       "      <td>0.042336</td>\n",
       "      <td>0.802610</td>\n",
       "      <td>0.791594</td>\n",
       "      <td>0.711250</td>\n",
       "      <td>0.675732</td>\n",
       "      <td>0.669889</td>\n",
       "      <td>0.873289</td>\n",
       "      <td>0.553202</td>\n",
       "      <td>1.000000</td>\n",
       "    </tr>\n",
       "  </tbody>\n",
       "</table>\n",
       "</div>"
      ],
      "text/plain": [
       "               No.       GRE     TOEFL    Rating       SOP       LOR  \\\n",
       "No.       1.000000 -0.097526 -0.147932 -0.169948 -0.166932 -0.088221   \n",
       "GRE      -0.097526  1.000000  0.835977  0.668976  0.612831  0.557555   \n",
       "TOEFL    -0.147932  0.835977  1.000000  0.695590  0.657981  0.567721   \n",
       "Rating   -0.169948  0.668976  0.695590  1.000000  0.734523  0.660123   \n",
       "SOP      -0.166932  0.612831  0.657981  0.734523  1.000000  0.729593   \n",
       "LOR      -0.088221  0.557555  0.567721  0.660123  0.729593  1.000000   \n",
       "CGPA     -0.045608  0.833060  0.828417  0.746479  0.718144  0.670211   \n",
       "Research -0.063138  0.580391  0.489858  0.447783  0.444029  0.396859   \n",
       "Chance    0.042336  0.802610  0.791594  0.711250  0.675732  0.669889   \n",
       "\n",
       "              CGPA  Research    Chance  \n",
       "No.      -0.045608 -0.063138  0.042336  \n",
       "GRE       0.833060  0.580391  0.802610  \n",
       "TOEFL     0.828417  0.489858  0.791594  \n",
       "Rating    0.746479  0.447783  0.711250  \n",
       "SOP       0.718144  0.444029  0.675732  \n",
       "LOR       0.670211  0.396859  0.669889  \n",
       "CGPA      1.000000  0.521654  0.873289  \n",
       "Research  0.521654  1.000000  0.553202  \n",
       "Chance    0.873289  0.553202  1.000000  "
      ]
     },
     "execution_count": 198,
     "metadata": {},
     "output_type": "execute_result"
    }
   ],
   "source": [
    "data.corr()"
   ]
  },
  {
   "cell_type": "markdown",
   "metadata": {},
   "source": [
    "2. Okomentuje výsledek - je korelace silná / pozitivní atd? "
   ]
  },
  {
   "cell_type": "code",
   "execution_count": 199,
   "metadata": {},
   "outputs": [],
   "source": [
    "# Korelace mezi TOEFL skóre a GRE skóre jsou spolu vysoce korelované (0,836). \n",
    "# Je zde velmi silná pozitivní souvislost."
   ]
  },
  {
   "cell_type": "markdown",
   "metadata": {},
   "source": [
    "3. Vytvořte korelační graf (sns.regplot) pro vysvětlovanou proměnnou \"šance na přijetí\" a proměnnou, která je s ní nejvíce korelovaná."
   ]
  },
  {
   "cell_type": "code",
   "execution_count": 200,
   "metadata": {},
   "outputs": [
    {
     "data": {
      "image/png": "[encoded data removed]",
      "text/plain": [
       "<Figure size 640x480 with 1 Axes>"
      ]
     },
     "metadata": {},
     "output_type": "display_data"
    }
   ],
   "source": [
    "#šance na přijetí je nejvíce korelovaná s průměrnou známkou z bakalářského studia (CGPA)\n",
    "g = sns.regplot (data = data, x = \"CGPA\", y = \"Chance\")"
   ]
  },
  {
   "cell_type": "markdown",
   "metadata": {},
   "source": [
    "### Úkol č. 4 - Vysvětlovaná proměnná (šance na přijetí)\n",
    "\n",
    "1. Vytvořte boxplot pro proměnnou \"Chance\""
   ]
  },
  {
   "cell_type": "code",
   "execution_count": 201,
   "metadata": {},
   "outputs": [
    {
     "data": {
      "text/plain": [
       "<Axes: ylabel='Chance'>"
      ]
     },
     "execution_count": 201,
     "metadata": {},
     "output_type": "execute_result"
    },
    {
     "data": {
      "image/png": "[encoded data removed]",
      "text/plain": [
       "<Figure size 640x480 with 1 Axes>"
      ]
     },
     "metadata": {},
     "output_type": "display_data"
    }
   ],
   "source": [
    "sns.boxplot(data, y = \"Chance\")"
   ]
  },
  {
   "cell_type": "markdown",
   "metadata": {},
   "source": [
    "2. Odstraňte odlehlá pozorování"
   ]
  },
  {
   "cell_type": "code",
   "execution_count": 202,
   "metadata": {},
   "outputs": [
    {
     "data": {
      "text/plain": [
       "0.34"
      ]
     },
     "execution_count": 202,
     "metadata": {},
     "output_type": "execute_result"
    }
   ],
   "source": [
    "# Podle boxplot je taková hodnota v datasetu pouze jedna (ta nejnižší hodnota datasetu)\n",
    "\n",
    "min = data[\"Chance\"].min()\n",
    "min"
   ]
  },
  {
   "cell_type": "code",
   "execution_count": 203,
   "metadata": {},
   "outputs": [
    {
     "data": {
      "text/plain": [
       "<Axes: ylabel='Chance'>"
      ]
     },
     "execution_count": 203,
     "metadata": {},
     "output_type": "execute_result"
    },
    {
     "data": {
      "image/png": "[encoded data removed]",
      "text/plain": [
       "<Figure size 640x480 with 1 Axes>"
      ]
     },
     "metadata": {},
     "output_type": "display_data"
    }
   ],
   "source": [
    "#odstraním minimum z datasetu a zkontroluji nový dataset pomocí boxplotu\n",
    "data_cleaned = data.drop(data[data[\"Chance\"] == min].index)\n",
    "sns.boxplot(data_cleaned, y = \"Chance\")"
   ]
  },
  {
   "cell_type": "markdown",
   "metadata": {},
   "source": [
    "### Úkol č. 5 - Lineární regrese \n",
    "\n",
    "1. Sestavte rovnici pro lineární regresi"
   ]
  },
  {
   "cell_type": "code",
   "execution_count": 206,
   "metadata": {},
   "outputs": [
    {
     "data": {
      "text/html": [
       "<table class=\"simpletable\">\n",
       "<caption>OLS Regression Results</caption>\n",
       "<tr>\n",
       "  <th>Dep. Variable:</th>         <td>Chance</td>      <th>  R-squared:         </th> <td>   0.805</td> \n",
       "</tr>\n",
       "<tr>\n",
       "  <th>Model:</th>                   <td>OLS</td>       <th>  Adj. R-squared:    </th> <td>   0.801</td> \n",
       "</tr>\n",
       "<tr>\n",
       "  <th>Method:</th>             <td>Least Squares</td>  <th>  F-statistic:       </th> <td>   229.9</td> \n",
       "</tr>\n",
       "<tr>\n",
       "  <th>Date:</th>             <td>Mon, 13 May 2024</td> <th>  Prob (F-statistic):</th> <td>3.78e-134</td>\n",
       "</tr>\n",
       "<tr>\n",
       "  <th>Time:</th>                 <td>22:22:26</td>     <th>  Log-Likelihood:    </th> <td>  542.56</td> \n",
       "</tr>\n",
       "<tr>\n",
       "  <th>No. Observations:</th>      <td>   398</td>      <th>  AIC:               </th> <td>  -1069.</td> \n",
       "</tr>\n",
       "<tr>\n",
       "  <th>Df Residuals:</th>          <td>   390</td>      <th>  BIC:               </th> <td>  -1037.</td> \n",
       "</tr>\n",
       "<tr>\n",
       "  <th>Df Model:</th>              <td>     7</td>      <th>                     </th>     <td> </td>    \n",
       "</tr>\n",
       "<tr>\n",
       "  <th>Covariance Type:</th>      <td>nonrobust</td>    <th>                     </th>     <td> </td>    \n",
       "</tr>\n",
       "</table>\n",
       "<table class=\"simpletable\">\n",
       "<tr>\n",
       "      <td></td>         <th>coef</th>     <th>std err</th>      <th>t</th>      <th>P>|t|</th>  <th>[0.025</th>    <th>0.975]</th>  \n",
       "</tr>\n",
       "<tr>\n",
       "  <th>Intercept</th> <td>   -1.2107</td> <td>    0.123</td> <td>   -9.855</td> <td> 0.000</td> <td>   -1.452</td> <td>   -0.969</td>\n",
       "</tr>\n",
       "<tr>\n",
       "  <th>GRE</th>       <td>    0.0017</td> <td>    0.001</td> <td>    2.843</td> <td> 0.005</td> <td>    0.001</td> <td>    0.003</td>\n",
       "</tr>\n",
       "<tr>\n",
       "  <th>TOEFL</th>     <td>    0.0026</td> <td>    0.001</td> <td>    2.467</td> <td> 0.014</td> <td>    0.001</td> <td>    0.005</td>\n",
       "</tr>\n",
       "<tr>\n",
       "  <th>Rating</th>    <td>    0.0054</td> <td>    0.005</td> <td>    1.147</td> <td> 0.252</td> <td>   -0.004</td> <td>    0.015</td>\n",
       "</tr>\n",
       "<tr>\n",
       "  <th>SOP</th>       <td>   -0.0003</td> <td>    0.005</td> <td>   -0.063</td> <td> 0.950</td> <td>   -0.011</td> <td>    0.010</td>\n",
       "</tr>\n",
       "<tr>\n",
       "  <th>LOR</th>       <td>    0.0210</td> <td>    0.005</td> <td>    3.861</td> <td> 0.000</td> <td>    0.010</td> <td>    0.032</td>\n",
       "</tr>\n",
       "<tr>\n",
       "  <th>CGPA</th>      <td>    0.1190</td> <td>    0.012</td> <td>    9.920</td> <td> 0.000</td> <td>    0.095</td> <td>    0.143</td>\n",
       "</tr>\n",
       "<tr>\n",
       "  <th>Research</th>  <td>    0.0237</td> <td>    0.008</td> <td>    3.040</td> <td> 0.003</td> <td>    0.008</td> <td>    0.039</td>\n",
       "</tr>\n",
       "</table>\n",
       "<table class=\"simpletable\">\n",
       "<tr>\n",
       "  <th>Omnibus:</th>       <td>88.327</td> <th>  Durbin-Watson:     </th> <td>   0.774</td>\n",
       "</tr>\n",
       "<tr>\n",
       "  <th>Prob(Omnibus):</th> <td> 0.000</td> <th>  Jarque-Bera (JB):  </th> <td> 184.308</td>\n",
       "</tr>\n",
       "<tr>\n",
       "  <th>Skew:</th>          <td>-1.164</td> <th>  Prob(JB):          </th> <td>9.50e-41</td>\n",
       "</tr>\n",
       "<tr>\n",
       "  <th>Kurtosis:</th>      <td> 5.386</td> <th>  Cond. No.          </th> <td>1.31e+04</td>\n",
       "</tr>\n",
       "</table><br/><br/>Notes:<br/>[1] Standard Errors assume that the covariance matrix of the errors is correctly specified.<br/>[2] The condition number is large, 1.31e+04. This might indicate that there are<br/>strong multicollinearity or other numerical problems."
      ],
      "text/latex": [
       "\\begin{center}\n",
       "\\begin{tabular}{lclc}\n",
       "\\toprule\n",
       "\\textbf{Dep. Variable:}    &      Chance      & \\textbf{  R-squared:         } &     0.805   \\\\\n",
       "\\textbf{Model:}            &       OLS        & \\textbf{  Adj. R-squared:    } &     0.801   \\\\\n",
       "\\textbf{Method:}           &  Least Squares   & \\textbf{  F-statistic:       } &     229.9   \\\\\n",
       "\\textbf{Date:}             & Mon, 13 May 2024 & \\textbf{  Prob (F-statistic):} & 3.78e-134   \\\\\n",
       "\\textbf{Time:}             &     22:22:26     & \\textbf{  Log-Likelihood:    } &    542.56   \\\\\n",
       "\\textbf{No. Observations:} &         398      & \\textbf{  AIC:               } &    -1069.   \\\\\n",
       "\\textbf{Df Residuals:}     &         390      & \\textbf{  BIC:               } &    -1037.   \\\\\n",
       "\\textbf{Df Model:}         &           7      & \\textbf{                     } &             \\\\\n",
       "\\textbf{Covariance Type:}  &    nonrobust     & \\textbf{                     } &             \\\\\n",
       "\\bottomrule\n",
       "\\end{tabular}\n",
       "\\begin{tabular}{lcccccc}\n",
       "                   & \\textbf{coef} & \\textbf{std err} & \\textbf{t} & \\textbf{P$> |$t$|$} & \\textbf{[0.025} & \\textbf{0.975]}  \\\\\n",
       "\\midrule\n",
       "\\textbf{Intercept} &      -1.2107  &        0.123     &    -9.855  &         0.000        &       -1.452    &       -0.969     \\\\\n",
       "\\textbf{GRE}       &       0.0017  &        0.001     &     2.843  &         0.005        &        0.001    &        0.003     \\\\\n",
       "\\textbf{TOEFL}     &       0.0026  &        0.001     &     2.467  &         0.014        &        0.001    &        0.005     \\\\\n",
       "\\textbf{Rating}    &       0.0054  &        0.005     &     1.147  &         0.252        &       -0.004    &        0.015     \\\\\n",
       "\\textbf{SOP}       &      -0.0003  &        0.005     &    -0.063  &         0.950        &       -0.011    &        0.010     \\\\\n",
       "\\textbf{LOR}       &       0.0210  &        0.005     &     3.861  &         0.000        &        0.010    &        0.032     \\\\\n",
       "\\textbf{CGPA}      &       0.1190  &        0.012     &     9.920  &         0.000        &        0.095    &        0.143     \\\\\n",
       "\\textbf{Research}  &       0.0237  &        0.008     &     3.040  &         0.003        &        0.008    &        0.039     \\\\\n",
       "\\bottomrule\n",
       "\\end{tabular}\n",
       "\\begin{tabular}{lclc}\n",
       "\\textbf{Omnibus:}       & 88.327 & \\textbf{  Durbin-Watson:     } &    0.774  \\\\\n",
       "\\textbf{Prob(Omnibus):} &  0.000 & \\textbf{  Jarque-Bera (JB):  } &  184.308  \\\\\n",
       "\\textbf{Skew:}          & -1.164 & \\textbf{  Prob(JB):          } & 9.50e-41  \\\\\n",
       "\\textbf{Kurtosis:}      &  5.386 & \\textbf{  Cond. No.          } & 1.31e+04  \\\\\n",
       "\\bottomrule\n",
       "\\end{tabular}\n",
       "%\\caption{OLS Regression Results}\n",
       "\\end{center}\n",
       "\n",
       "Notes: \\newline\n",
       " [1] Standard Errors assume that the covariance matrix of the errors is correctly specified. \\newline\n",
       " [2] The condition number is large, 1.31e+04. This might indicate that there are \\newline\n",
       " strong multicollinearity or other numerical problems."
      ],
      "text/plain": [
       "<class 'statsmodels.iolib.summary.Summary'>\n",
       "\"\"\"\n",
       "                            OLS Regression Results                            \n",
       "==============================================================================\n",
       "Dep. Variable:                 Chance   R-squared:                       0.805\n",
       "Model:                            OLS   Adj. R-squared:                  0.801\n",
       "Method:                 Least Squares   F-statistic:                     229.9\n",
       "Date:                Mon, 13 May 2024   Prob (F-statistic):          3.78e-134\n",
       "Time:                        22:22:26   Log-Likelihood:                 542.56\n",
       "No. Observations:                 398   AIC:                            -1069.\n",
       "Df Residuals:                     390   BIC:                            -1037.\n",
       "Df Model:                           7                                         \n",
       "Covariance Type:            nonrobust                                         \n",
       "==============================================================================\n",
       "                 coef    std err          t      P>|t|      [0.025      0.975]\n",
       "------------------------------------------------------------------------------\n",
       "Intercept     -1.2107      0.123     -9.855      0.000      -1.452      -0.969\n",
       "GRE            0.0017      0.001      2.843      0.005       0.001       0.003\n",
       "TOEFL          0.0026      0.001      2.467      0.014       0.001       0.005\n",
       "Rating         0.0054      0.005      1.147      0.252      -0.004       0.015\n",
       "SOP           -0.0003      0.005     -0.063      0.950      -0.011       0.010\n",
       "LOR            0.0210      0.005      3.861      0.000       0.010       0.032\n",
       "CGPA           0.1190      0.012      9.920      0.000       0.095       0.143\n",
       "Research       0.0237      0.008      3.040      0.003       0.008       0.039\n",
       "==============================================================================\n",
       "Omnibus:                       88.327   Durbin-Watson:                   0.774\n",
       "Prob(Omnibus):                  0.000   Jarque-Bera (JB):              184.308\n",
       "Skew:                          -1.164   Prob(JB):                     9.50e-41\n",
       "Kurtosis:                       5.386   Cond. No.                     1.31e+04\n",
       "==============================================================================\n",
       "\n",
       "Notes:\n",
       "[1] Standard Errors assume that the covariance matrix of the errors is correctly specified.\n",
       "[2] The condition number is large, 1.31e+04. This might indicate that there are\n",
       "strong multicollinearity or other numerical problems.\n",
       "\"\"\""
      ]
     },
     "execution_count": 206,
     "metadata": {},
     "output_type": "execute_result"
    }
   ],
   "source": [
    "# pozn.: V tomto konrkétním případě je problém, že mezi proměnnými navzájem existují významné korelaci. Nicméně v této úloze to nebudu řešit :) \n",
    "formula = \"Chance ~ GRE + TOEFL + Rating + SOP + LOR + CGPA + Research\"\n",
    "mod = smf.ols(formula = formula, data = data_cleaned)\n",
    "res = mod.fit()\n",
    "res.summary()"
   ]
  },
  {
   "cell_type": "markdown",
   "metadata": {},
   "source": [
    "2. Odhadněte parametry lineárního regresního modelu "
   ]
  },
  {
   "cell_type": "code",
   "execution_count": null,
   "metadata": {},
   "outputs": [],
   "source": [
    "\"\"\"\n",
    "Intercept = -1,2594\n",
    "\n",
    "GRE = 0,0017 \n",
    "TOEFL = 0,0026\n",
    "Rating = 0,0054\n",
    "SOP = -0,0003\n",
    "LOR = 0,0210\n",
    "CGPA = 0,12\n",
    "Research = 0,0237\n",
    "\n",
    "\"\"\""
   ]
  },
  {
   "cell_type": "markdown",
   "metadata": {},
   "source": [
    "3. Interpretuje koeficienty modelu. Které koeficienty jsou statisticky významné? Které proměnné mají největší vliv na šanci na přijetí a proč?"
   ]
  },
  {
   "cell_type": "code",
   "execution_count": null,
   "metadata": {},
   "outputs": [],
   "source": [
    "# H0: Koeficient je statisticky nevýznamný\n",
    "# H1: Koeficient je statisticky významný \n",
    "\n",
    "# Na hladině významnosti 0,05 jsou významné tyto koeficienty: GRE, TOEFL, LOR, CGPA, Research)\n",
    "# Úspěšnost přijetí nejvíce ovlivňuje průměr z bakalářského studia (CGPA), je statisticky významný a zároveň změna CGPA o jeden bod vyvolá nejvýznamnější změnu v šanci na přijetí."
   ]
  },
  {
   "cell_type": "markdown",
   "metadata": {},
   "source": [
    "4. Vyhodnoťte kvalitu fitu lineárního regresního modelu pomocí koeficientu determinace R^2 "
   ]
  },
  {
   "cell_type": "code",
   "execution_count": null,
   "metadata": {},
   "outputs": [],
   "source": [
    "\"\"\"\n",
    "Koefecient determina činní 0,8.\n",
    "To znamená, že 80 % šance na přijetí lze vysvělit naším modelem.\n",
    "\"\"\""
   ]
  },
  {
   "cell_type": "markdown",
   "metadata": {},
   "source": [
    "5. Spočítejte Cookovu vzdálenost pro jednotlivé body."
   ]
  },
  {
   "cell_type": "code",
   "execution_count": 209,
   "metadata": {},
   "outputs": [
    {
     "data": {
      "text/html": [
       "<div>\n",
       "<style scoped>\n",
       "    .dataframe tbody tr th:only-of-type {\n",
       "        vertical-align: middle;\n",
       "    }\n",
       "\n",
       "    .dataframe tbody tr th {\n",
       "        vertical-align: top;\n",
       "    }\n",
       "\n",
       "    .dataframe thead th {\n",
       "        text-align: right;\n",
       "    }\n",
       "</style>\n",
       "<table border=\"1\" class=\"dataframe\">\n",
       "  <thead>\n",
       "    <tr style=\"text-align: right;\">\n",
       "      <th></th>\n",
       "      <th>No.</th>\n",
       "      <th>GRE</th>\n",
       "      <th>TOEFL</th>\n",
       "      <th>Rating</th>\n",
       "      <th>SOP</th>\n",
       "      <th>LOR</th>\n",
       "      <th>CGPA</th>\n",
       "      <th>Research</th>\n",
       "      <th>Chance</th>\n",
       "      <th>Cook Distance</th>\n",
       "    </tr>\n",
       "  </thead>\n",
       "  <tbody>\n",
       "    <tr>\n",
       "      <th>0</th>\n",
       "      <td>1</td>\n",
       "      <td>337</td>\n",
       "      <td>118</td>\n",
       "      <td>4</td>\n",
       "      <td>4.5</td>\n",
       "      <td>4.5</td>\n",
       "      <td>9.65</td>\n",
       "      <td>1</td>\n",
       "      <td>0.92</td>\n",
       "      <td>0.000383</td>\n",
       "    </tr>\n",
       "    <tr>\n",
       "      <th>1</th>\n",
       "      <td>2</td>\n",
       "      <td>324</td>\n",
       "      <td>107</td>\n",
       "      <td>4</td>\n",
       "      <td>4.0</td>\n",
       "      <td>4.5</td>\n",
       "      <td>8.87</td>\n",
       "      <td>1</td>\n",
       "      <td>0.76</td>\n",
       "      <td>0.000811</td>\n",
       "    </tr>\n",
       "    <tr>\n",
       "      <th>2</th>\n",
       "      <td>3</td>\n",
       "      <td>316</td>\n",
       "      <td>104</td>\n",
       "      <td>3</td>\n",
       "      <td>3.0</td>\n",
       "      <td>3.5</td>\n",
       "      <td>8.00</td>\n",
       "      <td>1</td>\n",
       "      <td>0.72</td>\n",
       "      <td>0.002403</td>\n",
       "    </tr>\n",
       "    <tr>\n",
       "      <th>3</th>\n",
       "      <td>4</td>\n",
       "      <td>322</td>\n",
       "      <td>110</td>\n",
       "      <td>3</td>\n",
       "      <td>3.5</td>\n",
       "      <td>2.5</td>\n",
       "      <td>8.67</td>\n",
       "      <td>1</td>\n",
       "      <td>0.80</td>\n",
       "      <td>0.001627</td>\n",
       "    </tr>\n",
       "    <tr>\n",
       "      <th>4</th>\n",
       "      <td>5</td>\n",
       "      <td>314</td>\n",
       "      <td>103</td>\n",
       "      <td>2</td>\n",
       "      <td>2.0</td>\n",
       "      <td>3.0</td>\n",
       "      <td>8.21</td>\n",
       "      <td>0</td>\n",
       "      <td>0.65</td>\n",
       "      <td>0.000098</td>\n",
       "    </tr>\n",
       "  </tbody>\n",
       "</table>\n",
       "</div>"
      ],
      "text/plain": [
       "   No.  GRE  TOEFL  Rating  SOP  LOR  CGPA  Research  Chance  Cook Distance\n",
       "0    1  337    118       4  4.5  4.5  9.65         1    0.92       0.000383\n",
       "1    2  324    107       4  4.0  4.5  8.87         1    0.76       0.000811\n",
       "2    3  316    104       3  3.0  3.5  8.00         1    0.72       0.002403\n",
       "3    4  322    110       3  3.5  2.5  8.67         1    0.80       0.001627\n",
       "4    5  314    103       2  2.0  3.0  8.21         0    0.65       0.000098"
      ]
     },
     "execution_count": 209,
     "metadata": {},
     "output_type": "execute_result"
    }
   ],
   "source": [
    "from statsmodels.stats.outliers_influence import OLSInfluence\n",
    "\n",
    "formula = \"Chance ~ GRE + TOEFL + Rating + SOP + LOR + CGPA + Research\"\n",
    "mod = smf.ols(formula = formula, data = data_cleaned)\n",
    "results = mod.fit()\n",
    "influence = OLSInfluence (results)\n",
    "data_cleaned[\"Cook Distance\"] = influence.cooks_distance[0]\n",
    "data_cleaned.head()"
   ]
  },
  {
   "cell_type": "markdown",
   "metadata": {},
   "source": [
    "6. Vytvořte histogram pro Cookovu vzdálenost. Je potřeba nějaké body odstranit, protože by ovlivňovali naši lineární regresi? "
   ]
  },
  {
   "cell_type": "code",
   "execution_count": 212,
   "metadata": {},
   "outputs": [
    {
     "data": {
      "image/png": "[encoded data removed]",
      "text/plain": [
       "<Figure size 640x480 with 1 Axes>"
      ]
     },
     "metadata": {},
     "output_type": "display_data"
    }
   ],
   "source": [
    "g = sns.histplot(data_cleaned, x = \"Cook Distance\")"
   ]
  },
  {
   "cell_type": "code",
   "execution_count": null,
   "metadata": {},
   "outputs": [],
   "source": [
    "#Žádné body není potřeba odstranit, protože zde nejsou žádné body vyšší než 1. "
   ]
  }
 ],
 "metadata": {
  "kernelspec": {
   "display_name": "Python 3",
   "language": "python",
   "name": "python3"
  },
  "language_info": {
   "codemirror_mode": {
    "name": "ipython",
    "version": 3
   },
   "file_extension": ".py",
   "mimetype": "text/x-python",
   "name": "python",
   "nbconvert_exporter": "python",
   "pygments_lexer": "ipython3",
   "version": "3.12.1"
  }
 },
 "nbformat": 4,
 "nbformat_minor": 2
}
